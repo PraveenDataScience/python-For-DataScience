{
 "cells": [
  {
   "cell_type": "markdown",
   "metadata": {},
   "source": [
    "# Python Basics:"
   ]
  },
  {
   "cell_type": "code",
   "execution_count": null,
   "metadata": {},
   "outputs": [],
   "source": [
    "import sys\n",
    "print (sys.version)\n",
    "print (sys.version_info)"
   ]
  },
  {
   "cell_type": "markdown",
   "metadata": {},
   "source": [
    "Indentation Problem:"
   ]
  },
  {
   "cell_type": "code",
   "execution_count": 1,
   "metadata": {},
   "outputs": [
    {
     "name": "stdout",
     "output_type": "stream",
     "text": [
      "Value is  4\n",
      "Ram\n"
     ]
    }
   ],
   "source": [
    "i = 4\n",
    "if i <= 5:\n",
    "    print ('Value is ', i) # Error! Notice a single space at the start of the line\n",
    "    if i!=4:\n",
    "        print ('I repeat, the value is ', i)\n",
    "print (\"Ram\")"
   ]
  },
  {
   "cell_type": "code",
   "execution_count": 13,
   "metadata": {},
   "outputs": [
    {
     "ename": "SyntaxError",
     "evalue": "invalid syntax (<ipython-input-13-354a7317b0fe>, line 12)",
     "output_type": "error",
     "traceback": [
      "\u001b[1;36m  File \u001b[1;32m\"<ipython-input-13-354a7317b0fe>\"\u001b[1;36m, line \u001b[1;32m12\u001b[0m\n\u001b[1;33m    if x < anumber:\u001b[0m\n\u001b[1;37m     ^\u001b[0m\n\u001b[1;31mSyntaxError\u001b[0m\u001b[1;31m:\u001b[0m invalid syntax\n"
     ]
    }
   ],
   "source": [
    "#Example of indentation\n",
    "for x in alist:\n",
    "    if x < anumber:\n",
    "        print(x)\n",
    "    else:\n",
    "        print(-x)\n",
    "        \n",
    "#is similar to                   <------------------ Let us compare with other language\n",
    "\n",
    "for x in alist:\n",
    "    {\n",
    "        if x < anumber:\n",
    "        {\n",
    "            print(x)\n",
    "        }\n",
    "        else:\n",
    "        {\n",
    "            print(-x)\n",
    "        }\n",
    "    }"
   ]
  },
  {
   "cell_type": "markdown",
   "metadata": {},
   "source": [
    "# String Assignment"
   ]
  },
  {
   "cell_type": "markdown",
   "metadata": {},
   "source": [
    "1. I want to print the below string as it is. How do I do that?\n",
    "â€œApples are better than \\n Orangesâ€"
   ]
  },
  {
   "cell_type": "code",
   "execution_count": 1,
   "metadata": {},
   "outputs": [
    {
     "name": "stdout",
     "output_type": "stream",
     "text": [
      "'Apples are better than \\n Oranges'\n"
     ]
    }
   ],
   "source": [
    "s1='Apples are better than \\n Oranges'\n",
    "print(repr(s1))"
   ]
  },
  {
   "cell_type": "markdown",
   "metadata": {},
   "source": [
    "2. string_ex = 'I love python because it is so easy to use it and also it is used by many other IT companies'\n",
    "\n",
    "    I want you to split the above string on the separator.\n",
    "    How will you do it?"
   ]
  },
  {
   "cell_type": "code",
   "execution_count": 2,
   "metadata": {},
   "outputs": [
    {
     "name": "stdout",
     "output_type": "stream",
     "text": [
      "['I love python because ', ' is so easy to use ', ' and also ', ' is used by many other IT companies']\n"
     ]
    }
   ],
   "source": [
    "string_ex = 'I love python because it is so easy to use it and also it is used by many other IT companies'\n",
    "print(string_ex.split('it'))"
   ]
  },
  {
   "cell_type": "markdown",
   "metadata": {},
   "source": [
    "### 3.str_ex = I Love Python. \n",
    "How do you swap the cases of letters in the above input string?"
   ]
  },
  {
   "cell_type": "code",
   "execution_count": 5,
   "metadata": {},
   "outputs": [
    {
     "name": "stdout",
     "output_type": "stream",
     "text": [
      " i lOVE pYTHON\n"
     ]
    }
   ],
   "source": [
    "str_ex =' I Love Python'\n",
    "print(str_ex.swapcase())"
   ]
  },
  {
   "cell_type": "markdown",
   "metadata": {},
   "source": [
    "#### 4. str_input = Hey how are you doing. I am doing great\n",
    "Get the first 10 characters and the last 10 characters of the above the string and join them\n",
    "with a _ "
   ]
  },
  {
   "cell_type": "code",
   "execution_count": 6,
   "metadata": {},
   "outputs": [
    {
     "name": "stdout",
     "output_type": "stream",
     "text": [
      "Hey how ar_oing great\n"
     ]
    }
   ],
   "source": [
    "str_input = 'Hey how are you doing. I am doing great'\n",
    "print(str_input[:10]+\"_\"+str_input[-10:])\n"
   ]
  },
  {
   "cell_type": "markdown",
   "metadata": {},
   "source": [
    "#### 5. string1 = Hotelspace, string2=Facilities\n",
    "I want you to swap the first three letters and last three letters of both the strings and print\n",
    "the output by separating them with a @"
   ]
  },
  {
   "cell_type": "code",
   "execution_count": 17,
   "metadata": {},
   "outputs": [
    {
     "data": {
      "text/plain": [
       "'aceelspHot@iesilitFac'"
      ]
     },
     "execution_count": 17,
     "metadata": {},
     "output_type": "execute_result"
    }
   ],
   "source": [
    "string1=\"Hotelspace\"\n",
    "string2=\"Facilities\"\n",
    "m=string1[-3:]+string1[3:-3]+string1[:3]\n",
    "n=string2[-3:]+string2[3:-3]+string2[:3]\n",
    "m+'@'+n"
   ]
  },
  {
   "cell_type": "markdown",
   "metadata": {},
   "source": [
    "#### 6. strr = 'Hello World' How do you extract the string 'Worl' from the above string using negative index?"
   ]
  },
  {
   "cell_type": "code",
   "execution_count": 19,
   "metadata": {},
   "outputs": [
    {
     "data": {
      "text/plain": [
       "'Worl'"
      ]
     },
     "execution_count": 19,
     "metadata": {},
     "output_type": "execute_result"
    }
   ],
   "source": [
    "strr = 'Hello World'\n",
    "strr[-5:-1]"
   ]
  },
  {
   "cell_type": "markdown",
   "metadata": {},
   "source": [
    "#### 7. Reverse the string 5+6∗3−45. The output should be 45−3∗6+5"
   ]
  },
  {
   "cell_type": "code",
   "execution_count": 6,
   "metadata": {},
   "outputs": [
    {
     "data": {
      "text/plain": [
       "'45-3*6+5'"
      ]
     },
     "execution_count": 6,
     "metadata": {},
     "output_type": "execute_result"
    }
   ],
   "source": [
    "import re\n",
    "string1='5+6*3-45'\n",
    "list1=re.findall('[+-/*]|\\d+',string1)\n",
    "output_string=list1[::-1]\n",
    "''.join(output_string)"
   ]
  },
  {
   "cell_type": "code",
   "execution_count": 8,
   "metadata": {},
   "outputs": [],
   "source": [
    "#### Invesitigate later "
   ]
  },
  {
   "cell_type": "code",
   "execution_count": 7,
   "metadata": {},
   "outputs": [
    {
     "data": {
      "text/plain": [
       "'453*6+5'"
      ]
     },
     "execution_count": 7,
     "metadata": {},
     "output_type": "execute_result"
    }
   ],
   "source": [
    "import re\n",
    "string1='5+6*3−45'\n",
    "list1=re.findall('[+-/*]|\\d+',string1)\n",
    "output_string=list1[::-1]\n",
    "''.join(output_string)"
   ]
  },
  {
   "cell_type": "markdown",
   "metadata": {},
   "source": [
    "#### str_s = India is a great country with a lot of heritage str_x = South Africa is a great country with a lot of freedom\n",
    "I want you to remove the common words appearing in the above strings and display the left- over words as one single string."
   ]
  },
  {
   "cell_type": "code",
   "execution_count": 9,
   "metadata": {},
   "outputs": [
    {
     "name": "stdout",
     "output_type": "stream",
     "text": [
      "India heritage South Africa freedom\n"
     ]
    }
   ],
   "source": [
    "str_s=\"India is a great country with a lot of heritage\"\n",
    "str_x=\"South Africa is a great country with a lot of freedom\"\n",
    "str1 = str_s.split()\n",
    "str2 = str_x.split()\n",
    "str3 = list(str1)\n",
    "\n",
    "for word in str1:\n",
    "    if word in str2:\n",
    "        str2.remove(word)\n",
    "        str3.remove(word)\n",
    "        \n",
    "print(\" \".join(str3 + str2))"
   ]
  },
  {
   "cell_type": "markdown",
   "metadata": {},
   "source": [
    "#### 9. variable1=This is a test to check the unique characters in the string\n",
    "I want you to identify all the unique characters in the above string and also mention the number of times these unique characters are repeated in the above string."
   ]
  },
  {
   "cell_type": "code",
   "execution_count": 13,
   "metadata": {},
   "outputs": [],
   "source": [
    "from collections import Counter"
   ]
  },
  {
   "cell_type": "code",
   "execution_count": 15,
   "metadata": {},
   "outputs": [
    {
     "data": {
      "text/plain": [
       "Counter({'t': 8,\n",
       "         'h': 5,\n",
       "         'i': 5,\n",
       "         's': 5,\n",
       "         ' ': 11,\n",
       "         'a': 3,\n",
       "         'e': 6,\n",
       "         'o': 1,\n",
       "         'c': 4,\n",
       "         'k': 1,\n",
       "         'u': 2,\n",
       "         'n': 3,\n",
       "         'q': 1,\n",
       "         'r': 3,\n",
       "         'g': 1})"
      ]
     },
     "execution_count": 15,
     "metadata": {},
     "output_type": "execute_result"
    }
   ],
   "source": [
    "variable1='This is a test to check the unique characters in the string'\n",
    "Counter(variable1.lower())"
   ]
  },
  {
   "cell_type": "markdown",
   "metadata": {},
   "source": [
    "#### 10. var3 = abcdefgh\n",
    "\n",
    "I want you to transform the above string to a2c4e8g10"
   ]
  },
  {
   "cell_type": "code",
   "execution_count": 16,
   "metadata": {},
   "outputs": [
    {
     "data": {
      "text/plain": [
       "'a2c4e8g10'"
      ]
     },
     "execution_count": 16,
     "metadata": {},
     "output_type": "execute_result"
    }
   ],
   "source": [
    "var3=\"abcdefgh\"\n",
    "list1=list(var3)\n",
    "list1[1]=str(2)\n",
    "list1[3]=str(4)\n",
    "list1[5]=str(8)\n",
    "list1[7]=str(10)\n",
    "''.join(list1)"
   ]
  },
  {
   "cell_type": "code",
   "execution_count": null,
   "metadata": {},
   "outputs": [],
   "source": []
  }
 ],
 "metadata": {
  "kernelspec": {
   "display_name": "Python 3",
   "language": "python",
   "name": "python3"
  },
  "language_info": {
   "codemirror_mode": {
    "name": "ipython",
    "version": 3
   },
   "file_extension": ".py",
   "mimetype": "text/x-python",
   "name": "python",
   "nbconvert_exporter": "python",
   "pygments_lexer": "ipython3",
   "version": "3.7.1"
  }
 },
 "nbformat": 4,
 "nbformat_minor": 2
}
